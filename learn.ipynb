{
 "cells": [
  {
   "cell_type": "code",
   "execution_count": 1,
   "metadata": {},
   "outputs": [],
   "source": [
    "from icecream import ic"
   ]
  },
  {
   "cell_type": "code",
   "execution_count": 2,
   "metadata": {},
   "outputs": [],
   "source": [
    "attribs = [\"a\", \"b\"]\n",
    "vals = [1,2]"
   ]
  },
  {
   "cell_type": "code",
   "execution_count": 5,
   "metadata": {},
   "outputs": [
    {
     "name": "stdout",
     "output_type": "stream",
     "text": [
      "[('a', 1), ('b', 2)]\n"
     ]
    }
   ],
   "source": [
    "print(list(zip(attribs, vals)))"
   ]
  },
  {
   "cell_type": "code",
   "execution_count": 2,
   "metadata": {},
   "outputs": [],
   "source": [
    "class MercedesBenz:\n",
    "    model = \"z\"\n",
    "    weight = 2300\n",
    "    height = 150\n",
    "    doors = 4\n",
    "    wheels = 4\n",
    "\n",
    "    def __init__(self, color=\"black\"):\n",
    "        self.color = color\n",
    "        \n",
    "    def drive(self):\n",
    "        ic(f\"A Mercedez is driving. It is {self}\\n\")"
   ]
  },
  {
   "cell_type": "code",
   "execution_count": 4,
   "metadata": {},
   "outputs": [
    {
     "name": "stderr",
     "output_type": "stream",
     "text": [
      "ic| m1.__dict__: {'color': 'black'}\n",
      "ic| m2.__dict__: {'color': 'black'}\n",
      "ic| m1.__dict__: {'color': 'Red', 'doors': 4}\n",
      "ic| m2.__dict__: {'color': 'Red', 'doors': 4}\n"
     ]
    },
    {
     "data": {
      "text/plain": [
       "{'color': 'Red', 'doors': 4}"
      ]
     },
     "execution_count": 4,
     "metadata": {},
     "output_type": "execute_result"
    }
   ],
   "source": [
    "m1 = MercedesBenz()\n",
    "m2 = MercedesBenz()\n",
    "\n",
    "ic(m1.__dict__)\n",
    "ic(m2.__dict__)\n",
    "\n",
    "\n",
    "objs = [m1, m2]\n",
    "\n",
    "attribs = [\"color\", \"doors\"]\n",
    "vals = [\"Red\",4]\n",
    "\n",
    "for obj in objs:\n",
    "    for attr, val in zip(attribs, vals):\n",
    "        setattr(obj, attr, val) \n",
    "\n",
    "ic(m1.__dict__)\n",
    "ic(m2.__dict__)"
   ]
  },
  {
   "cell_type": "code",
   "execution_count": 7,
   "metadata": {},
   "outputs": [
    {
     "name": "stderr",
     "output_type": "stream",
     "text": [
      "ic| e: AttributeError(\"'MercedesBenz' object has no attribute 'wingspan'\")\n"
     ]
    }
   ],
   "source": [
    "try: \n",
    "    ic(m2.wingspan)\n",
    "except AttributeError as e:\n",
    "    ic(e)"
   ]
  },
  {
   "cell_type": "code",
   "execution_count": 10,
   "metadata": {},
   "outputs": [
    {
     "data": {
      "text/plain": [
       "'No Attribute called wingspan found'"
      ]
     },
     "execution_count": 10,
     "metadata": {},
     "output_type": "execute_result"
    }
   ],
   "source": [
    "getattr(m2, \"wingspan\", \"No Attribute called wingspan found\")"
   ]
  },
  {
   "cell_type": "code",
   "execution_count": 35,
   "metadata": {},
   "outputs": [],
   "source": []
  },
  {
   "cell_type": "code",
   "execution_count": null,
   "metadata": {},
   "outputs": [],
   "source": [
    "\n",
    "\n"
   ]
  },
  {
   "cell_type": "code",
   "execution_count": 36,
   "metadata": {},
   "outputs": [],
   "source": [
    "s1 = Student(name=\"Test\", age=35)"
   ]
  },
  {
   "cell_type": "code",
   "execution_count": 19,
   "metadata": {},
   "outputs": [
    {
     "data": {
      "text/plain": [
       "35"
      ]
     },
     "execution_count": 19,
     "metadata": {},
     "output_type": "execute_result"
    }
   ],
   "source": [
    "s1.age"
   ]
  },
  {
   "cell_type": "code",
   "execution_count": 56,
   "metadata": {},
   "outputs": [
    {
     "name": "stdout",
     "output_type": "stream",
     "text": [
      "This is  + Test + Its wonderful to meet you\n"
     ]
    }
   ],
   "source": [
    "s1.greet()"
   ]
  },
  {
   "cell_type": "code",
   "execution_count": null,
   "metadata": {},
   "outputs": [],
   "source": []
  }
 ],
 "metadata": {
  "kernelspec": {
   "display_name": "python-oop-AnC3oQZW",
   "language": "python",
   "name": "python3"
  },
  "language_info": {
   "codemirror_mode": {
    "name": "ipython",
    "version": 3
   },
   "file_extension": ".py",
   "mimetype": "text/x-python",
   "name": "python",
   "nbconvert_exporter": "python",
   "pygments_lexer": "ipython3",
   "version": "3.11.4"
  }
 },
 "nbformat": 4,
 "nbformat_minor": 2
}
