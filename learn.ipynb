{
 "cells": [
  {
   "cell_type": "code",
   "execution_count": 25,
   "metadata": {},
   "outputs": [],
   "source": [
    "from icecream import ic\n",
    "from collections import namedtuple"
   ]
  },
  {
   "cell_type": "code",
   "execution_count": 2,
   "metadata": {},
   "outputs": [],
   "source": [
    "class MercedesBenz:\n",
    "    model = \"z\"\n",
    "    weight = 2300\n",
    "    height = 150\n",
    "    doors = 4\n",
    "    wheels = 4\n",
    "\n",
    "    def __init__(self, color=\"black\"):\n",
    "        self.color = color\n",
    "        \n",
    "    def drive(self):\n",
    "        ic(f\"A Mercedez is driving. It is {self}\\n\")"
   ]
  },
  {
   "cell_type": "code",
   "execution_count": 3,
   "metadata": {},
   "outputs": [
    {
     "name": "stderr",
     "output_type": "stream",
     "text": [
      "ic| m1.__dict__: {'color': 'black'}\n",
      "ic| m2.__dict__: {'color': 'black'}\n",
      "ic| m1.__dict__: {'color': 'Red', 'doors': 4}\n",
      "ic| m2.__dict__: {'color': 'Red', 'doors': 4}\n"
     ]
    },
    {
     "data": {
      "text/plain": [
       "{'color': 'Red', 'doors': 4}"
      ]
     },
     "execution_count": 3,
     "metadata": {},
     "output_type": "execute_result"
    }
   ],
   "source": [
    "m1 = MercedesBenz()\n",
    "m2 = MercedesBenz()\n",
    "\n",
    "ic(m1.__dict__)\n",
    "ic(m2.__dict__)\n",
    "\n",
    "\n",
    "objs = [m1, m2]\n",
    "\n",
    "attribs = [\"color\", \"doors\"]\n",
    "vals = [\"Red\",4]\n",
    "\n",
    "for obj in objs:\n",
    "    for attr, val in zip(attribs, vals):\n",
    "        setattr(obj, attr, val) \n",
    "\n",
    "ic(m1.__dict__)\n",
    "ic(m2.__dict__)"
   ]
  },
  {
   "cell_type": "code",
   "execution_count": 4,
   "metadata": {},
   "outputs": [
    {
     "name": "stderr",
     "output_type": "stream",
     "text": [
      "ic| e: AttributeError(\"'MercedesBenz' object has no attribute 'wingspan'\")\n"
     ]
    }
   ],
   "source": [
    "try: \n",
    "    ic(m2.wingspan)\n",
    "except AttributeError as e:\n",
    "    ic(e)"
   ]
  },
  {
   "cell_type": "code",
   "execution_count": 5,
   "metadata": {},
   "outputs": [
    {
     "data": {
      "text/plain": [
       "'No Attribute called wingspan found'"
      ]
     },
     "execution_count": 5,
     "metadata": {},
     "output_type": "execute_result"
    }
   ],
   "source": [
    "getattr(m2, \"wingspan\", \"No Attribute called wingspan found\")"
   ]
  },
  {
   "cell_type": "code",
   "execution_count": 39,
   "metadata": {},
   "outputs": [],
   "source": [
    "class Book:\n",
    "    def __init__(self, name, author, pages):\n",
    "        self.name = name\n",
    "        self.author = author\n",
    "        self.pages = pages\n",
    "\n",
    "    def __repr__(self) -> str:\n",
    "        return f\"Book('{self.name}', '{self.author}', '{self.pages}')\"\n",
    "    \n",
    "    def __format__(self, __format_spec: str = \"None\") -> str:\n",
    "        if __format_spec == \"short\":\n",
    "            return f\"{self.name} -- {self.author}\"\n",
    "        elif __format_spec == \"pages\":\n",
    "            return f\"Has a total of {self.pages} pages\"\n",
    "        else:\n",
    "            return repr(self)\n",
    "        \n",
    "    def __eq__(self, __value: object) -> bool:\n",
    "        if not isinstance(__value, Book):\n",
    "            return False\n",
    "        \n",
    "        return self.name == __value.name and self.author == __value.author and self.pages == __value.pages\n",
    "\n",
    "\n",
    "\n",
    "b1 = Book(\"Bookname\", \"The Author\", 42) \n",
    "b2 = Book(\"Bookname\", \"The Author\", 42)       "
   ]
  },
  {
   "cell_type": "code",
   "execution_count": null,
   "metadata": {},
   "outputs": [],
   "source": []
  },
  {
   "cell_type": "code",
   "execution_count": 15,
   "metadata": {},
   "outputs": [
    {
     "data": {
      "text/plain": [
       "'Has a total of 42 pages'"
      ]
     },
     "execution_count": 15,
     "metadata": {},
     "output_type": "execute_result"
    }
   ],
   "source": [
    "\n",
    "f\"{b1:pages}\"\n"
   ]
  },
  {
   "cell_type": "code",
   "execution_count": 17,
   "metadata": {},
   "outputs": [
    {
     "data": {
      "text/plain": [
       "True"
      ]
     },
     "execution_count": 17,
     "metadata": {},
     "output_type": "execute_result"
    }
   ],
   "source": [
    "b1 == b2"
   ]
  },
  {
   "cell_type": "code",
   "execution_count": 24,
   "metadata": {},
   "outputs": [
    {
     "data": {
      "text/plain": [
       "(139653413015760, 139653282243792)"
      ]
     },
     "execution_count": 24,
     "metadata": {},
     "output_type": "execute_result"
    }
   ],
   "source": [
    "id(b1), id(b2)"
   ]
  },
  {
   "cell_type": "code",
   "execution_count": 36,
   "metadata": {},
   "outputs": [],
   "source": [
    "essay = namedtuple(\"es\", [\"name\", \"author\", \"pages\"])"
   ]
  },
  {
   "cell_type": "code",
   "execution_count": 37,
   "metadata": {},
   "outputs": [],
   "source": [
    "e = essay(\"Bookname\", \"The Author\", 42)"
   ]
  },
  {
   "cell_type": "code",
   "execution_count": 40,
   "metadata": {},
   "outputs": [
    {
     "data": {
      "text/plain": [
       "False"
      ]
     },
     "execution_count": 40,
     "metadata": {},
     "output_type": "execute_result"
    }
   ],
   "source": [
    "b1 == e"
   ]
  },
  {
   "cell_type": "code",
   "execution_count": 45,
   "metadata": {},
   "outputs": [],
   "source": [
    "def _obfuscate(text):\n",
    "    half_length = len(text) // 2\n",
    "    ic(half_length)\n",
    "    return text[:half_length] + '*' * (half_length + 1)"
   ]
  },
  {
   "cell_type": "code",
   "execution_count": 49,
   "metadata": {},
   "outputs": [],
   "source": [
    "t = \"abcdefgh\""
   ]
  },
  {
   "cell_type": "code",
   "execution_count": 50,
   "metadata": {},
   "outputs": [
    {
     "name": "stderr",
     "output_type": "stream",
     "text": [
      "ic| half_length: 4\n"
     ]
    },
    {
     "data": {
      "text/plain": [
       "'abcd*****'"
      ]
     },
     "execution_count": 50,
     "metadata": {},
     "output_type": "execute_result"
    }
   ],
   "source": [
    "_obfuscate(t)"
   ]
  }
 ],
 "metadata": {
  "kernelspec": {
   "display_name": "python-oop-AnC3oQZW",
   "language": "python",
   "name": "python3"
  },
  "language_info": {
   "codemirror_mode": {
    "name": "ipython",
    "version": 3
   },
   "file_extension": ".py",
   "mimetype": "text/x-python",
   "name": "python",
   "nbconvert_exporter": "python",
   "pygments_lexer": "ipython3",
   "version": "3.11.4"
  }
 },
 "nbformat": 4,
 "nbformat_minor": 2
}
